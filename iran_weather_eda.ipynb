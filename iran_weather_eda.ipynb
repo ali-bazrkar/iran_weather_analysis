{
 "cells": [
  {
   "cell_type": "markdown",
   "id": "4d81692409309ca7",
   "metadata": {
    "collapsed": false
   },
   "source": [
    "# Importing Libraries"
   ]
  },
  {
   "cell_type": "code",
   "execution_count": 3,
   "id": "caa82013b45cf989",
   "metadata": {
    "collapsed": false,
    "ExecuteTime": {
     "end_time": "2024-09-21T22:11:43.888945700Z",
     "start_time": "2024-09-21T22:11:43.876969900Z"
    }
   },
   "outputs": [],
   "source": [
    "import numpy as np\n",
    "import pandas as pd\n",
    "import matplotlib.pyplot as plt\n",
    "import seaborn as sns"
   ]
  },
  {
   "cell_type": "markdown",
   "id": "8003a7744e94c705",
   "metadata": {
    "collapsed": false
   },
   "source": [
    "# Data Preprocessing"
   ]
  },
  {
   "cell_type": "markdown",
   "id": "ec0d2fdf75f0fbe4",
   "metadata": {
    "collapsed": false
   },
   "source": [
    "## Data Loading"
   ]
  },
  {
   "cell_type": "code",
   "execution_count": 4,
   "id": "9bee1d0a9a3f2457",
   "metadata": {
    "collapsed": false,
    "ExecuteTime": {
     "end_time": "2024-09-21T22:11:50.970485400Z",
     "start_time": "2024-09-21T22:11:50.626572500Z"
    }
   },
   "outputs": [],
   "source": [
    "# City name lists\n",
    "cities = [\n",
    "    \"Ahvaz\",\n",
    "    \"Bandar Abbas\",\n",
    "    \"Isfahan\",\n",
    "    \"Karaj\",\n",
    "    \"Kerman\",\n",
    "    \"Mashhad\",\n",
    "    \"Rasht\",\n",
    "    \"Shiraz\",\n",
    "    \"Tabriz\",\n",
    "    \"Tehran\"\n",
    "]\n",
    "\n",
    "# Dataframe to keep dataframes\n",
    "dataframes = {}\n",
    "\n",
    "# Reading DataFrames and Saving them in a dictionary\n",
    "for city in cities:\n",
    "    dataframes[city] = pd.read_csv(f\"Dataset/{city}.csv\")\n",
    "\n",
    "# for city, df in dataframes.items():\n",
    "#     print(f\"Dataframe for {city}:\")\n",
    "#     print(f\"Shape: {df.shape}\")\n",
    "#     print()\n",
    "# print(dataframes)"
   ]
  },
  {
   "cell_type": "markdown",
   "source": [
    "## Data Cleaning :"
   ],
   "metadata": {
    "collapsed": false
   },
   "id": "9399750a213ab2ec"
  },
  {
   "cell_type": "markdown",
   "source": [
    "### Checking NaNs :"
   ],
   "metadata": {
    "collapsed": false
   },
   "id": "47b81dff9ff1cf1d"
  },
  {
   "cell_type": "code",
   "execution_count": 21,
   "outputs": [
    {
     "name": "stdout",
     "output_type": "stream",
     "text": [
      "MISSING VALUES' SUM :\n",
      "- Ahvaz: 0\n",
      "- Bandar Abbas: 0\n",
      "- Isfahan: 0\n",
      "- Karaj: 0\n",
      "- Kerman: 0\n",
      "- Mashhad: 0\n",
      "- Rasht: 0\n",
      "- Shiraz: 0\n",
      "- Tabriz: 0\n",
      "- Tehran: 0\n"
     ]
    }
   ],
   "source": [
    "print(\"MISSING VALUES' SUM :\")\n",
    "for city, df in dataframes.items():\n",
    "    missing_values = df.isnull().sum()\n",
    "    print(f\"- {city}:\", missing_values.values.sum())"
   ],
   "metadata": {
    "collapsed": false,
    "ExecuteTime": {
     "end_time": "2024-09-21T22:32:45.462546300Z",
     "start_time": "2024-09-21T22:32:45.414767300Z"
    }
   },
   "id": "be65efd3c7ea42df"
  },
  {
   "cell_type": "markdown",
   "source": [
    "### Setting Date Column's Datatype :"
   ],
   "metadata": {
    "collapsed": false
   },
   "id": "ec721eece1d00e90"
  },
  {
   "cell_type": "code",
   "execution_count": 22,
   "outputs": [],
   "source": [
    "# Fixing the date data type\n",
    "for city, df in dataframes.items():\n",
    "    df[\"time\"] = pd.to_datetime(df[\"time\"])"
   ],
   "metadata": {
    "collapsed": false,
    "ExecuteTime": {
     "end_time": "2024-09-21T22:33:10.577247100Z",
     "start_time": "2024-09-21T22:33:10.524642500Z"
    }
   },
   "id": "eadda663cce6497b"
  },
  {
   "cell_type": "markdown",
   "source": [
    "### Check Datatypes :"
   ],
   "metadata": {
    "collapsed": false
   },
   "id": "88490d0093be52f2"
  },
  {
   "cell_type": "code",
   "execution_count": 27,
   "outputs": [
    {
     "name": "stdout",
     "output_type": "stream",
     "text": [
      "<class 'pandas.core.frame.DataFrame'>\n",
      "RangeIndex: 4926 entries, 0 to 4925\n",
      "Data columns (total 14 columns):\n",
      " #   Column                           Non-Null Count  Dtype         \n",
      "---  ------                           --------------  -----         \n",
      " 0   time                             4926 non-null   datetime64[ns]\n",
      " 1   temp_max (°C)                    4926 non-null   float64       \n",
      " 2   temp_min (°C)                    4926 non-null   float64       \n",
      " 3   temp_mean (°C)                   4926 non-null   float64       \n",
      " 4   daylight_duration (s)            4926 non-null   float64       \n",
      " 5   precipitation_sum (mm)           4926 non-null   float64       \n",
      " 6   rain_sum (mm)                    4926 non-null   float64       \n",
      " 7   snowfall_sum (cm)                4926 non-null   float64       \n",
      " 8   precipitation_hours (h)          4926 non-null   float64       \n",
      " 9   wind_speed_max (km/h)            4926 non-null   float64       \n",
      " 10  wind_gusts_max (km/h)            4926 non-null   float64       \n",
      " 11  wind_direction_dominant (°)      4926 non-null   int64         \n",
      " 12  shortwave_radiation_sum (MJ/m²)  4926 non-null   float64       \n",
      " 13  evapotranspiration (mm)          4926 non-null   float64       \n",
      "dtypes: datetime64[ns](1), float64(12), int64(1)\n",
      "memory usage: 538.9 KB\n"
     ]
    }
   ],
   "source": [
    "dataframes[\"Tehran\"].info()"
   ],
   "metadata": {
    "collapsed": false,
    "ExecuteTime": {
     "end_time": "2024-09-21T22:35:06.966591100Z",
     "start_time": "2024-09-21T22:35:06.895695Z"
    }
   },
   "id": "219e020bf727eeee"
  },
  {
   "cell_type": "markdown",
   "source": [
    "**Note:** all the dataframes were checked but to show a clean output for presentation we only showed the data of Tehran result"
   ],
   "metadata": {
    "collapsed": false
   },
   "id": "3128c0396ca2db9b"
  },
  {
   "cell_type": "code",
   "execution_count": null,
   "outputs": [],
   "source": [],
   "metadata": {
    "collapsed": false
   },
   "id": "d60df18de460a3d6"
  }
 ],
 "metadata": {
  "kernelspec": {
   "display_name": "Python 3",
   "language": "python",
   "name": "python3"
  },
  "language_info": {
   "codemirror_mode": {
    "name": "ipython",
    "version": 2
   },
   "file_extension": ".py",
   "mimetype": "text/x-python",
   "name": "python",
   "nbconvert_exporter": "python",
   "pygments_lexer": "ipython2",
   "version": "2.7.6"
  }
 },
 "nbformat": 4,
 "nbformat_minor": 5
}
