{
 "cells": [
  {
   "cell_type": "markdown",
   "id": "4d81692409309ca7",
   "metadata": {
    "collapsed": false
   },
   "source": [
    "# Importing Libraries"
   ]
  },
  {
   "cell_type": "code",
   "execution_count": 3,
   "id": "caa82013b45cf989",
   "metadata": {
    "collapsed": false,
    "ExecuteTime": {
     "end_time": "2024-09-22T08:38:21.789463200Z",
     "start_time": "2024-09-22T08:38:21.602536900Z"
    }
   },
   "outputs": [],
   "source": [
    "import numpy as np\n",
    "import pandas as pd\n",
    "import matplotlib.pyplot as plt\n",
    "import seaborn as sns\n",
    "from persiantools.jdatetime import JalaliDate\n",
    "from datetime import datetime, date"
   ]
  },
  {
   "cell_type": "markdown",
   "id": "8003a7744e94c705",
   "metadata": {
    "collapsed": false
   },
   "source": [
    "# Data Preparation"
   ]
  },
  {
   "cell_type": "markdown",
   "id": "ec0d2fdf75f0fbe4",
   "metadata": {
    "collapsed": false
   },
   "source": [
    "## Dataset Combining "
   ]
  },
  {
   "cell_type": "markdown",
   "source": [
    "#### load geography information"
   ],
   "metadata": {
    "collapsed": false
   },
   "id": "519b37ccf5f07dd1"
  },
  {
   "cell_type": "code",
   "execution_count": 4,
   "outputs": [
    {
     "name": "stdout",
     "output_type": "stream",
     "text": [
      "    latitude  longitude  elevation            city\n",
      "0  35.676624  51.428570     1183.0        Tehran  \n",
      "1  38.066784  46.150738     1399.0        Tabriz  \n",
      "2  36.309315  59.648438      986.0       Mashhad  \n",
      "3  32.653778  51.695120     1579.0       Isfahan  \n",
      "4  29.630930  52.560837     1541.0        Shiraz  \n",
      "5  31.318100  48.700836       23.0         Ahvaz  \n",
      "6  37.293495  49.535810        4.0         Rasht  \n",
      "7  30.263618  57.119434     1762.0        Kerman  \n",
      "8  27.170473  56.224940        9.0  Bandar Abbas  \n",
      "9  35.817223  50.980644     1341.0           Karaj\n"
     ]
    }
   ],
   "source": [
    "geography = pd.read_csv(f\"Dataset/Geography Information.csv\")\n",
    "print(geography)"
   ],
   "metadata": {
    "collapsed": false,
    "ExecuteTime": {
     "end_time": "2024-09-22T08:38:23.347694400Z",
     "start_time": "2024-09-22T08:38:23.307527100Z"
    }
   },
   "id": "6b8b9a9e06bcb3dc"
  },
  {
   "cell_type": "markdown",
   "source": [
    "#### load city information"
   ],
   "metadata": {
    "collapsed": false
   },
   "id": "c8ca7a4fb4e3cc9c"
  },
  {
   "cell_type": "code",
   "execution_count": 5,
   "id": "9bee1d0a9a3f2457",
   "metadata": {
    "collapsed": false,
    "ExecuteTime": {
     "end_time": "2024-09-22T08:38:25.980728700Z",
     "start_time": "2024-09-22T08:38:25.789070600Z"
    }
   },
   "outputs": [],
   "source": [
    "# City name lists\n",
    "cities = [\n",
    "    \"Ahvaz\",\n",
    "    \"Bandar Abbas\",\n",
    "    \"Isfahan\",\n",
    "    \"Karaj\",\n",
    "    \"Kerman\",\n",
    "    \"Mashhad\",\n",
    "    \"Rasht\",\n",
    "    \"Shiraz\",\n",
    "    \"Tabriz\",\n",
    "    \"Tehran\"\n",
    "]\n",
    "\n",
    "# list to keep dataframes\n",
    "dataframes = []\n",
    "\n",
    "# Reading DataFrames and Saving them in a dictionary\n",
    "for city in cities:\n",
    "    df = pd.read_csv(f\"Dataset/{city}.csv\")\n",
    "    df['city'] = city\n",
    "    dataframes.append(df)"
   ]
  },
  {
   "cell_type": "markdown",
   "source": [
    "#### Combine what we have gotten so far"
   ],
   "metadata": {
    "collapsed": false
   },
   "id": "bbefdc9543e48f3d"
  },
  {
   "cell_type": "code",
   "execution_count": 124,
   "outputs": [],
   "source": [
    "## Data Cleaning \n",
    "df_combined = pd.concat(dataframes, ignore_index=True)\n",
    "df_combined = pd.merge(df_combined, geography, on='city', how='left')\n",
    "\n",
    "# Save the combined dataframe to a new CSV file\n",
    "df_combined.to_csv(\"Complete Dataset.csv\", index=False)"
   ],
   "metadata": {
    "collapsed": false,
    "ExecuteTime": {
     "end_time": "2024-09-22T08:31:52.014849900Z",
     "start_time": "2024-09-22T08:31:51.059538Z"
    }
   },
   "id": "89ab54fbaeffc367"
  },
  {
   "cell_type": "markdown",
   "source": [
    "## Data Cleaning "
   ],
   "metadata": {
    "collapsed": false
   },
   "id": "9399750a213ab2ec"
  },
  {
   "cell_type": "code",
   "execution_count": 6,
   "outputs": [],
   "source": [
    "df = pd.read_csv(\"Complete Dataset.csv\")"
   ],
   "metadata": {
    "collapsed": false,
    "ExecuteTime": {
     "end_time": "2024-09-22T08:39:30.529930100Z",
     "start_time": "2024-09-22T08:39:30.396020800Z"
    }
   },
   "id": "79599280ebaa1025"
  },
  {
   "cell_type": "markdown",
   "source": [
    "### Checking NaNs "
   ],
   "metadata": {
    "collapsed": false
   },
   "id": "47b81dff9ff1cf1d"
  },
  {
   "cell_type": "code",
   "execution_count": 10,
   "outputs": [
    {
     "name": "stdout",
     "output_type": "stream",
     "text": [
      "Dataset Missing Values:\n",
      "time                               0\n",
      "temp_max (°C)                      0\n",
      "temp_min (°C)                      0\n",
      "temp_mean (°C)                     0\n",
      "daylight_duration (s)              0\n",
      "precipitation_sum (mm)             0\n",
      "rain_sum (mm)                      0\n",
      "snowfall_sum (cm)                  0\n",
      "precipitation_hours (h)            0\n",
      "wind_speed_max (km/h)              0\n",
      "wind_gusts_max (km/h)              0\n",
      "wind_direction_dominant (°)        0\n",
      "shortwave_radiation_sum (MJ/m²)    0\n",
      "evapotranspiration (mm)            0\n",
      "city                               0\n",
      "latitude                           0\n",
      "longitude                          0\n",
      "elevation                          0\n",
      "dtype: int64\n"
     ]
    }
   ],
   "source": [
    "print(\"Dataset Missing Values:\")\n",
    "missing_values = df.isnull().sum()\n",
    "print(missing_values)"
   ],
   "metadata": {
    "collapsed": false,
    "ExecuteTime": {
     "end_time": "2024-09-22T08:50:53.415185100Z",
     "start_time": "2024-09-22T08:50:53.404887200Z"
    }
   },
   "id": "be65efd3c7ea42df"
  },
  {
   "cell_type": "markdown",
   "source": [
    "### Setting Date Column's Datatype "
   ],
   "metadata": {
    "collapsed": false
   },
   "id": "ec721eece1d00e90"
  },
  {
   "cell_type": "code",
   "execution_count": 7,
   "outputs": [],
   "source": [
    "# Fixing the date data type\n",
    "df = pd.read_csv(\"Complete Dataset.csv\")\n",
    "df[\"time\"] = pd.to_datetime(df[\"time\"])"
   ],
   "metadata": {
    "collapsed": false,
    "ExecuteTime": {
     "end_time": "2024-09-22T08:39:54.466624100Z",
     "start_time": "2024-09-22T08:39:54.319312900Z"
    }
   },
   "id": "eadda663cce6497b"
  },
  {
   "cell_type": "markdown",
   "source": [
    "### Check Datatypes "
   ],
   "metadata": {
    "collapsed": false
   },
   "id": "88490d0093be52f2"
  },
  {
   "cell_type": "code",
   "execution_count": 8,
   "outputs": [
    {
     "name": "stdout",
     "output_type": "stream",
     "text": [
      "<class 'pandas.core.frame.DataFrame'>\n",
      "RangeIndex: 49260 entries, 0 to 49259\n",
      "Data columns (total 18 columns):\n",
      " #   Column                           Non-Null Count  Dtype         \n",
      "---  ------                           --------------  -----         \n",
      " 0   time                             49260 non-null  datetime64[ns]\n",
      " 1   temp_max (°C)                    49260 non-null  float64       \n",
      " 2   temp_min (°C)                    49260 non-null  float64       \n",
      " 3   temp_mean (°C)                   49260 non-null  float64       \n",
      " 4   daylight_duration (s)            49260 non-null  float64       \n",
      " 5   precipitation_sum (mm)           49260 non-null  float64       \n",
      " 6   rain_sum (mm)                    49260 non-null  float64       \n",
      " 7   snowfall_sum (cm)                49260 non-null  float64       \n",
      " 8   precipitation_hours (h)          49260 non-null  float64       \n",
      " 9   wind_speed_max (km/h)            49260 non-null  float64       \n",
      " 10  wind_gusts_max (km/h)            49260 non-null  float64       \n",
      " 11  wind_direction_dominant (°)      49260 non-null  int64         \n",
      " 12  shortwave_radiation_sum (MJ/m²)  49260 non-null  float64       \n",
      " 13  evapotranspiration (mm)          49260 non-null  float64       \n",
      " 14  city                             49260 non-null  object        \n",
      " 15  latitude                         49260 non-null  float64       \n",
      " 16  longitude                        49260 non-null  float64       \n",
      " 17  elevation                        49260 non-null  float64       \n",
      "dtypes: datetime64[ns](1), float64(15), int64(1), object(1)\n",
      "memory usage: 6.8+ MB\n"
     ]
    }
   ],
   "source": [
    "df.info()"
   ],
   "metadata": {
    "collapsed": false,
    "ExecuteTime": {
     "end_time": "2024-09-22T08:40:05.830731Z",
     "start_time": "2024-09-22T08:40:05.773434300Z"
    }
   },
   "id": "219e020bf727eeee"
  },
  {
   "cell_type": "markdown",
   "source": [
    "### Gregorian to Jalali Convertion "
   ],
   "metadata": {
    "collapsed": false
   },
   "id": "e99f12ea0960c71e"
  },
  {
   "cell_type": "code",
   "execution_count": 104,
   "outputs": [],
   "source": [
    "for city, df in dataframes.items():\n",
    "    df[\"date_jalali\"] = df[\"time\"].apply(lambda time: JalaliDate(time))  # create Jalali date column\n",
    "    df.rename(columns={'time': 'date_gregorian'}, inplace=True)  # rename time to date_gregorian"
   ],
   "metadata": {
    "collapsed": false,
    "ExecuteTime": {
     "end_time": "2024-09-22T07:33:39.669919200Z",
     "start_time": "2024-09-22T07:33:39.279789700Z"
    }
   },
   "id": "d60df18de460a3d6"
  },
  {
   "cell_type": "markdown",
   "source": [
    "#### Calculating Seasons for analysis based on Jalali date"
   ],
   "metadata": {
    "collapsed": false
   },
   "id": "5c7572b2bd2b8f6d"
  },
  {
   "cell_type": "code",
   "execution_count": 106,
   "outputs": [],
   "source": [
    "df[\"season\"] = df[\"date_jalali\"].apply(lambda date: \n",
    "                                        1 if date.month in [1, 2, 3] else \n",
    "                                        2 if date.month in [4, 5, 6] else \n",
    "                                        3 if date.month in [7, 8, 9] else \n",
    "                                        4  \n",
    "                                        ).astype(np.int8)"
   ],
   "metadata": {
    "collapsed": false,
    "ExecuteTime": {
     "end_time": "2024-09-22T07:34:13.528653200Z",
     "start_time": "2024-09-22T07:34:13.481521400Z"
    }
   },
   "id": "b00a3e84b351a2e6"
  },
  {
   "cell_type": "code",
   "execution_count": 107,
   "outputs": [
    {
     "name": "stdout",
     "output_type": "stream",
     "text": [
      "<class 'pandas.core.frame.DataFrame'>\n",
      "RangeIndex: 4926 entries, 0 to 4925\n",
      "Data columns (total 16 columns):\n",
      " #   Column                           Non-Null Count  Dtype         \n",
      "---  ------                           --------------  -----         \n",
      " 0   date_gregorian                   4926 non-null   datetime64[ns]\n",
      " 1   temp_max (°C)                    4926 non-null   float64       \n",
      " 2   temp_min (°C)                    4926 non-null   float64       \n",
      " 3   temp_mean (°C)                   4926 non-null   float64       \n",
      " 4   daylight_duration (s)            4926 non-null   float64       \n",
      " 5   precipitation_sum (mm)           4926 non-null   float64       \n",
      " 6   rain_sum (mm)                    4926 non-null   float64       \n",
      " 7   snowfall_sum (cm)                4926 non-null   float64       \n",
      " 8   precipitation_hours (h)          4926 non-null   float64       \n",
      " 9   wind_speed_max (km/h)            4926 non-null   float64       \n",
      " 10  wind_gusts_max (km/h)            4926 non-null   float64       \n",
      " 11  wind_direction_dominant (°)      4926 non-null   int64         \n",
      " 12  shortwave_radiation_sum (MJ/m²)  4926 non-null   float64       \n",
      " 13  evapotranspiration (mm)          4926 non-null   float64       \n",
      " 14  date_jalali                      4926 non-null   object        \n",
      " 15  season                           4926 non-null   int8          \n",
      "dtypes: datetime64[ns](1), float64(12), int64(1), int8(1), object(1)\n",
      "memory usage: 582.2+ KB\n",
      "None\n"
     ]
    }
   ],
   "source": [
    "df.info()"
   ],
   "metadata": {
    "collapsed": false,
    "ExecuteTime": {
     "end_time": "2024-09-22T07:34:17.571994900Z",
     "start_time": "2024-09-22T07:34:17.529460500Z"
    }
   },
   "id": "31e1c6bdebfdf31c"
  },
  {
   "cell_type": "code",
   "execution_count": 84,
   "outputs": [],
   "source": [],
   "metadata": {
    "collapsed": false,
    "ExecuteTime": {
     "end_time": "2024-09-22T07:20:44.720545500Z",
     "start_time": "2024-09-22T07:20:44.719548800Z"
    }
   },
   "id": "ea6679b068111061"
  }
 ],
 "metadata": {
  "kernelspec": {
   "display_name": "Python 3",
   "language": "python",
   "name": "python3"
  },
  "language_info": {
   "codemirror_mode": {
    "name": "ipython",
    "version": 2
   },
   "file_extension": ".py",
   "mimetype": "text/x-python",
   "name": "python",
   "nbconvert_exporter": "python",
   "pygments_lexer": "ipython2",
   "version": "2.7.6"
  }
 },
 "nbformat": 4,
 "nbformat_minor": 5
}
