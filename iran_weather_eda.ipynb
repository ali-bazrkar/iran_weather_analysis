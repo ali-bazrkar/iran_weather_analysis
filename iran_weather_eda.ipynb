{
 "cells": [
  {
   "cell_type": "markdown",
   "id": "4d81692409309ca7",
   "metadata": {
    "collapsed": false
   },
   "source": [
    "# Importing Libraries"
   ]
  },
  {
   "cell_type": "code",
   "execution_count": 247,
   "id": "caa82013b45cf989",
   "metadata": {
    "collapsed": false,
    "ExecuteTime": {
     "end_time": "2024-09-22T16:16:15.898868300Z",
     "start_time": "2024-09-22T16:16:15.894875100Z"
    }
   },
   "outputs": [],
   "source": [
    "import numpy as np\n",
    "import pandas as pd\n",
    "import matplotlib.pyplot as plt\n",
    "from matplotlib.animation import FuncAnimation\n",
    "import seaborn as sns\n",
    "from persiantools.jdatetime import JalaliDate\n",
    "from mpl_toolkits.basemap import Basemap"
   ]
  },
  {
   "cell_type": "markdown",
   "id": "8003a7744e94c705",
   "metadata": {
    "collapsed": false
   },
   "source": [
    "# Data Preparation"
   ]
  },
  {
   "cell_type": "markdown",
   "id": "ec0d2fdf75f0fbe4",
   "metadata": {
    "collapsed": false
   },
   "source": [
    "## Loading Datasets"
   ]
  },
  {
   "cell_type": "code",
   "execution_count": 248,
   "outputs": [
    {
     "name": "stdout",
     "output_type": "stream",
     "text": [
      "    latitude  longitude  elevation          city\n",
      "0  35.676624  51.428570     1183.0        Tehran\n",
      "1  38.066784  46.150738     1399.0        Tabriz\n",
      "2  36.309315  59.648438      986.0       Mashhad\n",
      "3  32.653778  51.695120     1579.0       Isfahan\n",
      "4  29.630930  52.560837     1541.0        Shiraz\n",
      "5  31.318100  48.700836       23.0         Ahvaz\n",
      "6  37.293495  49.535810        4.0         Rasht\n",
      "7  30.263618  57.119434     1762.0        Kerman\n",
      "8  27.170473  56.224940        9.0  Bandar Abbas\n",
      "9  35.817223  50.980644     1341.0         Karaj\n"
     ]
    }
   ],
   "source": [
    "geography = pd.read_csv(f\"Dataset/Geography Information.csv\")\n",
    "geography['city'] = geography['city'].str.strip()\n",
    "print(geography)"
   ],
   "metadata": {
    "collapsed": false,
    "ExecuteTime": {
     "end_time": "2024-09-22T16:16:16.518077200Z",
     "start_time": "2024-09-22T16:16:16.503790800Z"
    }
   },
   "id": "6b8b9a9e06bcb3dc"
  },
  {
   "cell_type": "code",
   "execution_count": 249,
   "id": "9bee1d0a9a3f2457",
   "metadata": {
    "collapsed": false,
    "ExecuteTime": {
     "end_time": "2024-09-22T16:16:16.786509100Z",
     "start_time": "2024-09-22T16:16:16.657424400Z"
    }
   },
   "outputs": [],
   "source": [
    "# City name lists\n",
    "cities = [\n",
    "    \"Tehran\",\n",
    "    \"Tabriz\",\n",
    "    \"Mashhad\",\n",
    "    \"Isfahan\",\n",
    "    \"Shiraz\",\n",
    "    \"Ahvaz\",\n",
    "    \"Rasht\",\n",
    "    \"Kerman\",\n",
    "    \"Bandar Abbas\",\n",
    "    \"Karaj\"\n",
    "]\n",
    "\n",
    "# list to keep dataframes\n",
    "dataframes = []\n",
    "\n",
    "# Reading DataFrames and Saving them in a dictionary\n",
    "for city in cities:\n",
    "    df = pd.read_csv(f\"Dataset/{city}.csv\")\n",
    "    df['city'] = city\n",
    "    dataframes.append(df)"
   ]
  },
  {
   "cell_type": "markdown",
   "source": [
    "### Dataset Combining "
   ],
   "metadata": {
    "collapsed": false
   },
   "id": "bbefdc9543e48f3d"
  },
  {
   "cell_type": "code",
   "execution_count": 250,
   "outputs": [],
   "source": [
    "## Data Cleaning \n",
    "df_combined = pd.concat(dataframes, ignore_index=True)\n",
    "df_combined = pd.merge(df_combined, geography, on='city', how='left')\n",
    "\n",
    "# Save the combined dataframe to a new CSV file\n",
    "df_combined.to_csv(\"Dataset/Combined Dataset.csv\", index=False)"
   ],
   "metadata": {
    "collapsed": false,
    "ExecuteTime": {
     "end_time": "2024-09-22T16:16:17.787495Z",
     "start_time": "2024-09-22T16:16:16.963243300Z"
    }
   },
   "id": "89ab54fbaeffc367"
  },
  {
   "cell_type": "markdown",
   "source": [
    "## Data Cleaning "
   ],
   "metadata": {
    "collapsed": false
   },
   "id": "9399750a213ab2ec"
  },
  {
   "cell_type": "code",
   "execution_count": 251,
   "outputs": [],
   "source": [
    "del df, df_combined, dataframes, geography, cities\n",
    "df = pd.read_csv(\"Dataset/Combined Dataset.csv\")"
   ],
   "metadata": {
    "collapsed": false,
    "ExecuteTime": {
     "end_time": "2024-09-22T16:16:18.549577500Z",
     "start_time": "2024-09-22T16:16:18.417684100Z"
    }
   },
   "id": "79599280ebaa1025"
  },
  {
   "cell_type": "markdown",
   "source": [
    "### Checking NaNs "
   ],
   "metadata": {
    "collapsed": false
   },
   "id": "47b81dff9ff1cf1d"
  },
  {
   "cell_type": "code",
   "execution_count": 252,
   "outputs": [
    {
     "name": "stdout",
     "output_type": "stream",
     "text": [
      "Dataset Missing Values:\n",
      "time                               0\n",
      "temp_max (°C)                      0\n",
      "temp_min (°C)                      0\n",
      "temp_mean (°C)                     0\n",
      "daylight_duration (s)              0\n",
      "precipitation_sum (mm)             0\n",
      "rain_sum (mm)                      0\n",
      "snowfall_sum (cm)                  0\n",
      "precipitation_hours (h)            0\n",
      "wind_speed_max (km/h)              0\n",
      "wind_gusts_max (km/h)              0\n",
      "wind_direction_dominant (°)        0\n",
      "shortwave_radiation_sum (MJ/m²)    0\n",
      "evapotranspiration (mm)            0\n",
      "city                               0\n",
      "latitude                           0\n",
      "longitude                          0\n",
      "elevation                          0\n",
      "dtype: int64\n"
     ]
    }
   ],
   "source": [
    "print(\"Dataset Missing Values:\")\n",
    "missing_values = df.isnull().sum()\n",
    "print(missing_values)"
   ],
   "metadata": {
    "collapsed": false,
    "ExecuteTime": {
     "end_time": "2024-09-22T16:16:20.703898100Z",
     "start_time": "2024-09-22T16:16:20.688639900Z"
    }
   },
   "id": "be65efd3c7ea42df"
  },
  {
   "cell_type": "markdown",
   "source": [
    "### Gregorian and Jalali Date Settings "
   ],
   "metadata": {
    "collapsed": false
   },
   "id": "ec721eece1d00e90"
  },
  {
   "cell_type": "code",
   "execution_count": 253,
   "outputs": [],
   "source": [
    "df[\"time\"] = pd.to_datetime(df[\"time\"])"
   ],
   "metadata": {
    "collapsed": false,
    "ExecuteTime": {
     "end_time": "2024-09-22T16:16:24.035451600Z",
     "start_time": "2024-09-22T16:16:23.999254600Z"
    }
   },
   "id": "eadda663cce6497b"
  },
  {
   "cell_type": "code",
   "execution_count": 254,
   "outputs": [],
   "source": [
    "# create Jalali date column\n",
    "df[\"date_jalali\"] = df[\"time\"].apply(lambda time: JalaliDate(time)) \n",
    "\n",
    "# rename time to date_gregorian\n",
    "df.rename(columns={'time': 'date_gregorian'}, inplace=True)"
   ],
   "metadata": {
    "collapsed": false,
    "ExecuteTime": {
     "end_time": "2024-09-22T16:16:25.400424600Z",
     "start_time": "2024-09-22T16:16:24.739921500Z"
    }
   },
   "id": "d60df18de460a3d6"
  },
  {
   "cell_type": "code",
   "execution_count": 255,
   "outputs": [],
   "source": [
    "\n",
    "df[\"year\"] = df[\"date_jalali\"].apply(lambda date: date.year)\n",
    "df[\"month\"] = df[\"date_jalali\"].apply(lambda date: date.month)\n",
    "df[\"season\"] = df[\"month\"].apply(lambda month:\n",
    "                                    \"Spring\" if month in [1, 2, 3] else \n",
    "                                    \"Summer\" if month in [4, 5, 6] else \n",
    "                                    \"Autumn\" if month in [7, 8, 9] else \n",
    "                                    \"Winter\")\n",
    "df['month'] = df['month'].map({\n",
    "    1: \"Farvardin\",\n",
    "    2: \"Ordibehesht\",\n",
    "    3: \"Khordad\",\n",
    "    4: \"Tir\",\n",
    "    5: \"Mordad\",\n",
    "    6: \"Shahrivar\",\n",
    "    7: \"Mehr\",\n",
    "    8: \"Aban\",\n",
    "    9: \"Azar\",\n",
    "    10: \"Dey\",\n",
    "    11: \"Bahman\",\n",
    "    12: \"Esfand\"\n",
    "})                       "
   ],
   "metadata": {
    "collapsed": false,
    "ExecuteTime": {
     "end_time": "2024-09-22T16:17:33.236319600Z",
     "start_time": "2024-09-22T16:17:33.175101800Z"
    }
   },
   "id": "b00a3e84b351a2e6"
  },
  {
   "cell_type": "code",
   "execution_count": 256,
   "outputs": [
    {
     "name": "stdout",
     "output_type": "stream",
     "text": [
      "<class 'pandas.core.frame.DataFrame'>\n",
      "RangeIndex: 49260 entries, 0 to 49259\n",
      "Data columns (total 22 columns):\n",
      " #   Column                           Non-Null Count  Dtype         \n",
      "---  ------                           --------------  -----         \n",
      " 0   date_gregorian                   49260 non-null  datetime64[ns]\n",
      " 1   temp_max (°C)                    49260 non-null  float64       \n",
      " 2   temp_min (°C)                    49260 non-null  float64       \n",
      " 3   temp_mean (°C)                   49260 non-null  float64       \n",
      " 4   daylight_duration (s)            49260 non-null  float64       \n",
      " 5   precipitation_sum (mm)           49260 non-null  float64       \n",
      " 6   rain_sum (mm)                    49260 non-null  float64       \n",
      " 7   snowfall_sum (cm)                49260 non-null  float64       \n",
      " 8   precipitation_hours (h)          49260 non-null  float64       \n",
      " 9   wind_speed_max (km/h)            49260 non-null  float64       \n",
      " 10  wind_gusts_max (km/h)            49260 non-null  float64       \n",
      " 11  wind_direction_dominant (°)      49260 non-null  int64         \n",
      " 12  shortwave_radiation_sum (MJ/m²)  49260 non-null  float64       \n",
      " 13  evapotranspiration (mm)          49260 non-null  float64       \n",
      " 14  city                             49260 non-null  object        \n",
      " 15  latitude                         49260 non-null  float64       \n",
      " 16  longitude                        49260 non-null  float64       \n",
      " 17  elevation                        49260 non-null  float64       \n",
      " 18  date_jalali                      49260 non-null  object        \n",
      " 19  year                             49260 non-null  int64         \n",
      " 20  month                            49260 non-null  object        \n",
      " 21  season                           49260 non-null  object        \n",
      "dtypes: datetime64[ns](1), float64(15), int64(2), object(4)\n",
      "memory usage: 8.3+ MB\n"
     ]
    }
   ],
   "source": [
    "df.info()"
   ],
   "metadata": {
    "collapsed": false,
    "ExecuteTime": {
     "end_time": "2024-09-22T16:17:33.368013300Z",
     "start_time": "2024-09-22T16:17:33.351058700Z"
    }
   },
   "id": "31e1c6bdebfdf31c"
  },
  {
   "cell_type": "markdown",
   "source": [
    "### Memory Cleaning "
   ],
   "metadata": {
    "collapsed": false
   },
   "id": "b5a27bddaab75be9"
  },
  {
   "cell_type": "code",
   "execution_count": 257,
   "outputs": [],
   "source": [
    "def datatype_cleaner(df):\n",
    "    \n",
    "    for column in df.select_dtypes(include=['float', 'int']).columns:\n",
    "        min_val = df[column].min()\n",
    "        max_val = df[column].max()\n",
    "    \n",
    "        col_dtype = df[column].dtype\n",
    "    \n",
    "        # Check ranges for int and float types\n",
    "        if np.issubdtype(col_dtype, np.floating):\n",
    "            if min_val >= -65504 and max_val <= 65504:  # float16\n",
    "                df[column] = df[column].astype(np.float16)\n",
    "            elif min_val >= -3.4e38 and max_val <= 3.4e38:  # float32\n",
    "                df[column] = df[column].astype(np.float32)\n",
    "            else:\n",
    "                df[column] = df[column].astype(np.float64)\n",
    "    \n",
    "        elif np.issubdtype(col_dtype, np.integer):\n",
    "            if min_val >= -128 and max_val <= 127:  # int8\n",
    "                df[column] = df[column].astype(np.int8)\n",
    "            elif min_val >= -32768 and max_val <= 32767:  # int16\n",
    "                df[column] = df[column].astype(np.int16)\n",
    "            elif min_val >= -2147483648 and max_val <= 2147483647:  # int32\n",
    "                df[column] = df[column].astype(np.int32)\n",
    "            else:\n",
    "                df[column] = df[column].astype(np.int64)"
   ],
   "metadata": {
    "collapsed": false,
    "ExecuteTime": {
     "end_time": "2024-09-22T16:17:33.653791300Z",
     "start_time": "2024-09-22T16:17:33.641785900Z"
    }
   },
   "id": "51749d36070ae96f"
  },
  {
   "cell_type": "code",
   "execution_count": 258,
   "outputs": [
    {
     "name": "stdout",
     "output_type": "stream",
     "text": [
      "<class 'pandas.core.frame.DataFrame'>\n",
      "RangeIndex: 49260 entries, 0 to 49259\n",
      "Data columns (total 22 columns):\n",
      " #   Column                           Non-Null Count  Dtype         \n",
      "---  ------                           --------------  -----         \n",
      " 0   date_gregorian                   49260 non-null  datetime64[ns]\n",
      " 1   temp_max (°C)                    49260 non-null  float16       \n",
      " 2   temp_min (°C)                    49260 non-null  float16       \n",
      " 3   temp_mean (°C)                   49260 non-null  float16       \n",
      " 4   daylight_duration (s)            49260 non-null  float16       \n",
      " 5   precipitation_sum (mm)           49260 non-null  float16       \n",
      " 6   rain_sum (mm)                    49260 non-null  float16       \n",
      " 7   snowfall_sum (cm)                49260 non-null  float16       \n",
      " 8   precipitation_hours (h)          49260 non-null  float16       \n",
      " 9   wind_speed_max (km/h)            49260 non-null  float16       \n",
      " 10  wind_gusts_max (km/h)            49260 non-null  float16       \n",
      " 11  wind_direction_dominant (°)      49260 non-null  int16         \n",
      " 12  shortwave_radiation_sum (MJ/m²)  49260 non-null  float16       \n",
      " 13  evapotranspiration (mm)          49260 non-null  float16       \n",
      " 14  city                             49260 non-null  object        \n",
      " 15  latitude                         49260 non-null  float16       \n",
      " 16  longitude                        49260 non-null  float16       \n",
      " 17  elevation                        49260 non-null  float16       \n",
      " 18  date_jalali                      49260 non-null  object        \n",
      " 19  year                             49260 non-null  int16         \n",
      " 20  month                            49260 non-null  object        \n",
      " 21  season                           49260 non-null  object        \n",
      "dtypes: datetime64[ns](1), float16(15), int16(2), object(4)\n",
      "memory usage: 3.5+ MB\n"
     ]
    }
   ],
   "source": [
    "# calling the function to clean datatype memory usage\n",
    "datatype_cleaner(df)\n",
    "df.info()"
   ],
   "metadata": {
    "collapsed": false,
    "ExecuteTime": {
     "end_time": "2024-09-22T16:17:33.834925600Z",
     "start_time": "2024-09-22T16:17:33.788597Z"
    }
   },
   "id": "ea6679b068111061"
  },
  {
   "cell_type": "code",
   "execution_count": 259,
   "outputs": [],
   "source": [
    "df.to_csv(\"Final Dataset.csv\", index=False)"
   ],
   "metadata": {
    "collapsed": false,
    "ExecuteTime": {
     "end_time": "2024-09-22T16:17:34.755758400Z",
     "start_time": "2024-09-22T16:17:33.965827800Z"
    }
   },
   "id": "61d9d3c96bd8e4ec"
  },
  {
   "cell_type": "markdown",
   "source": [
    "# Data Visualization"
   ],
   "metadata": {
    "collapsed": false
   },
   "id": "1fd6d693fe040c39"
  },
  {
   "cell_type": "markdown",
   "source": [
    "## Weather Analysis"
   ],
   "metadata": {
    "collapsed": false
   },
   "id": "204a1e2cc90192d2"
  },
  {
   "cell_type": "code",
   "execution_count": null,
   "outputs": [],
   "source": [],
   "metadata": {
    "collapsed": false
   },
   "id": "4b0e94dce8477b6b"
  },
  {
   "cell_type": "code",
   "execution_count": 263,
   "outputs": [
    {
     "data": {
      "text/plain": "<Figure size 1200x600 with 1 Axes>",
      "image/png": "[encoded data removed]"
     },
     "metadata": {},
     "output_type": "display_data"
    }
   ],
   "source": [
    "plt.figure(figsize=(12, 6))\n",
    "sns.boxplot(x='month', y='temp_min (°C)', data=df)\n",
    "plt.title(\"Temperature Distribution Across Seasons\")\n",
    "plt.ylabel(\"Mean Temperature (°C)\")\n",
    "plt.show()"
   ],
   "metadata": {
    "collapsed": false,
    "ExecuteTime": {
     "start_time": "2024-09-22T16:18:33.221619400Z"
    }
   },
   "id": "41cfe0a7ba1f7f8b"
  },
  {
   "cell_type": "code",
   "execution_count": 261,
   "outputs": [
    {
     "data": {
      "text/plain": "<Figure size 1000x600 with 1 Axes>",
      "image/png": "[encoded data removed]"
     },
     "metadata": {},
     "output_type": "display_data"
    }
   ],
   "source": [
    "plt.figure(figsize=(10, 6))\n",
    "sns.boxplot(x='season', y='temp_min (°C)', data=df)\n",
    "plt.title(\"Temperature Distribution Across Seasons\")\n",
    "plt.ylabel(\"Mean Temperature (°C)\")\n",
    "plt.show()"
   ],
   "metadata": {
    "collapsed": false,
    "ExecuteTime": {
     "start_time": "2024-09-22T16:17:36.396110100Z"
    }
   },
   "id": "ff1f4b2fa8413dbd"
  },
  {
   "cell_type": "code",
   "execution_count": null,
   "outputs": [],
   "source": [],
   "metadata": {
    "collapsed": false
   },
   "id": "937c07b03b53bf64"
  },
  {
   "cell_type": "code",
   "execution_count": null,
   "outputs": [],
   "source": [],
   "metadata": {
    "collapsed": false
   },
   "id": "4819d28a45a3d1ee"
  },
  {
   "cell_type": "code",
   "execution_count": null,
   "outputs": [],
   "source": [
    "city_trends = df.groupby('city').agg({\n",
    "    'temp_mean (°C)': 'mean',\n",
    "    'precipitation_sum (mm)': 'mean',\n",
    "    'wind_speed_max (km/h)': 'mean'\n",
    "})\n",
    "city_trends.plot(kind='bar', subplots=True, figsize=(10, 8), title=\"City-wise Weather Trends\")"
   ],
   "metadata": {
    "collapsed": false
   },
   "id": "9d48fd158a12af64"
  },
  {
   "cell_type": "code",
   "execution_count": null,
   "outputs": [],
   "source": [],
   "metadata": {
    "collapsed": false
   },
   "id": "30546c3444c3c0be"
  }
 ],
 "metadata": {
  "kernelspec": {
   "display_name": "Python 3",
   "language": "python",
   "name": "python3"
  },
  "language_info": {
   "codemirror_mode": {
    "name": "ipython",
    "version": 2
   },
   "file_extension": ".py",
   "mimetype": "text/x-python",
   "name": "python",
   "nbconvert_exporter": "python",
   "pygments_lexer": "ipython2",
   "version": "2.7.6"
  }
 },
 "nbformat": 4,
 "nbformat_minor": 5
}
