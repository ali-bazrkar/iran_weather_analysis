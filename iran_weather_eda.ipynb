{
 "cells": [
  {
   "cell_type": "markdown",
   "id": "4d81692409309ca7",
   "metadata": {
    "collapsed": false
   },
   "source": [
    "# Importing Libraries"
   ]
  },
  {
   "cell_type": "code",
   "execution_count": 49,
   "id": "caa82013b45cf989",
   "metadata": {
    "collapsed": false,
    "ExecuteTime": {
     "end_time": "2024-09-21T23:06:27.156851600Z",
     "start_time": "2024-09-21T23:06:27.137899300Z"
    }
   },
   "outputs": [],
   "source": [
    "import numpy as np\n",
    "import pandas as pd\n",
    "import matplotlib.pyplot as plt\n",
    "import seaborn as sns\n",
    "from persiantools.digits import fa_to_en\n",
    "from persiantools.jdatetime import JalaliDateTime, JalaliDate\n",
    "from datetime import datetime, date"
   ]
  },
  {
   "cell_type": "markdown",
   "id": "8003a7744e94c705",
   "metadata": {
    "collapsed": false
   },
   "source": [
    "# Data Preparation"
   ]
  },
  {
   "cell_type": "markdown",
   "id": "ec0d2fdf75f0fbe4",
   "metadata": {
    "collapsed": false
   },
   "source": [
    "## Data Loading"
   ]
  },
  {
   "cell_type": "code",
   "execution_count": 50,
   "id": "9bee1d0a9a3f2457",
   "metadata": {
    "collapsed": false,
    "ExecuteTime": {
     "end_time": "2024-09-21T23:06:28.335609100Z",
     "start_time": "2024-09-21T23:06:27.819756600Z"
    }
   },
   "outputs": [],
   "source": [
    "# City name lists\n",
    "cities = [\n",
    "    \"Ahvaz\",\n",
    "    \"Bandar Abbas\",\n",
    "    \"Isfahan\",\n",
    "    \"Karaj\",\n",
    "    \"Kerman\",\n",
    "    \"Mashhad\",\n",
    "    \"Rasht\",\n",
    "    \"Shiraz\",\n",
    "    \"Tabriz\",\n",
    "    \"Tehran\"\n",
    "]\n",
    "\n",
    "# Dataframe to keep dataframes\n",
    "dataframes = {}\n",
    "\n",
    "# Reading DataFrames and Saving them in a dictionary\n",
    "for city in cities:\n",
    "    dataframes[city] = pd.read_csv(f\"Dataset/{city}.csv\")\n",
    "\n",
    "# for city, df in dataframes.items():\n",
    "#     print(f\"Dataframe for {city}:\")\n",
    "#     print(f\"Shape: {df.shape}\")\n",
    "#     print()\n",
    "# print(dataframes)"
   ]
  },
  {
   "cell_type": "markdown",
   "source": [
    "## Data Cleaning "
   ],
   "metadata": {
    "collapsed": false
   },
   "id": "9399750a213ab2ec"
  },
  {
   "cell_type": "markdown",
   "source": [
    "### Checking NaNs "
   ],
   "metadata": {
    "collapsed": false
   },
   "id": "47b81dff9ff1cf1d"
  },
  {
   "cell_type": "code",
   "execution_count": 51,
   "outputs": [
    {
     "name": "stdout",
     "output_type": "stream",
     "text": [
      "MISSING VALUES' SUM :\n",
      "- Ahvaz: 0\n",
      "- Bandar Abbas: 0\n",
      "- Isfahan: 0\n",
      "- Karaj: 0\n",
      "- Kerman: 0\n",
      "- Mashhad: 0\n",
      "- Rasht: 0\n",
      "- Shiraz: 0\n",
      "- Tabriz: 0\n",
      "- Tehran: 0\n"
     ]
    }
   ],
   "source": [
    "print(\"MISSING VALUES' SUM :\")\n",
    "for city, df in dataframes.items():\n",
    "    missing_values = df.isnull().sum()\n",
    "    print(f\"- {city}:\", missing_values.values.sum())"
   ],
   "metadata": {
    "collapsed": false,
    "ExecuteTime": {
     "end_time": "2024-09-21T23:06:28.475643800Z",
     "start_time": "2024-09-21T23:06:28.431150Z"
    }
   },
   "id": "be65efd3c7ea42df"
  },
  {
   "cell_type": "markdown",
   "source": [
    "### Setting Date Column's Datatype "
   ],
   "metadata": {
    "collapsed": false
   },
   "id": "ec721eece1d00e90"
  },
  {
   "cell_type": "code",
   "execution_count": 52,
   "outputs": [],
   "source": [
    "# Fixing the date data type\n",
    "for city, df in dataframes.items():\n",
    "    df[\"time\"] = pd.to_datetime(df[\"time\"])"
   ],
   "metadata": {
    "collapsed": false,
    "ExecuteTime": {
     "end_time": "2024-09-21T23:06:29.598842300Z",
     "start_time": "2024-09-21T23:06:29.557367Z"
    }
   },
   "id": "eadda663cce6497b"
  },
  {
   "cell_type": "markdown",
   "source": [
    "### Check Datatypes "
   ],
   "metadata": {
    "collapsed": false
   },
   "id": "88490d0093be52f2"
  },
  {
   "cell_type": "code",
   "execution_count": 53,
   "outputs": [
    {
     "name": "stdout",
     "output_type": "stream",
     "text": [
      "<class 'pandas.core.frame.DataFrame'>\n",
      "RangeIndex: 4926 entries, 0 to 4925\n",
      "Data columns (total 14 columns):\n",
      " #   Column                           Non-Null Count  Dtype         \n",
      "---  ------                           --------------  -----         \n",
      " 0   time                             4926 non-null   datetime64[ns]\n",
      " 1   temp_max (°C)                    4926 non-null   float64       \n",
      " 2   temp_min (°C)                    4926 non-null   float64       \n",
      " 3   temp_mean (°C)                   4926 non-null   float64       \n",
      " 4   daylight_duration (s)            4926 non-null   float64       \n",
      " 5   precipitation_sum (mm)           4926 non-null   float64       \n",
      " 6   rain_sum (mm)                    4926 non-null   float64       \n",
      " 7   snowfall_sum (cm)                4926 non-null   float64       \n",
      " 8   precipitation_hours (h)          4926 non-null   float64       \n",
      " 9   wind_speed_max (km/h)            4926 non-null   float64       \n",
      " 10  wind_gusts_max (km/h)            4926 non-null   float64       \n",
      " 11  wind_direction_dominant (°)      4926 non-null   int64         \n",
      " 12  shortwave_radiation_sum (MJ/m²)  4926 non-null   float64       \n",
      " 13  evapotranspiration (mm)          4926 non-null   float64       \n",
      "dtypes: datetime64[ns](1), float64(12), int64(1)\n",
      "memory usage: 538.9 KB\n"
     ]
    }
   ],
   "source": [
    "dataframes[\"Tehran\"].info()"
   ],
   "metadata": {
    "collapsed": false,
    "ExecuteTime": {
     "end_time": "2024-09-21T23:06:30.504097700Z",
     "start_time": "2024-09-21T23:06:30.489898800Z"
    }
   },
   "id": "219e020bf727eeee"
  },
  {
   "cell_type": "markdown",
   "source": [
    "**Note:** all the dataframes were checked but to show a clean output for presentation we only showed the data of Tehran result"
   ],
   "metadata": {
    "collapsed": false
   },
   "id": "3128c0396ca2db9b"
  },
  {
   "cell_type": "markdown",
   "source": [
    "### Gregorian to Jalali Convertion "
   ],
   "metadata": {
    "collapsed": false
   },
   "id": "e99f12ea0960c71e"
  },
  {
   "cell_type": "code",
   "execution_count": 54,
   "outputs": [
    {
     "name": "stdout",
     "output_type": "stream",
     "text": [
      "     date_gregorian  temp_max (°C)  temp_min (°C)  temp_mean (°C)  \\\n",
      "0        2011-03-21           17.4            3.9            10.8   \n",
      "1        2011-03-22           18.2            6.4            11.9   \n",
      "2        2011-03-23           13.3            4.6             9.6   \n",
      "3        2011-03-24           12.2            1.2             7.2   \n",
      "4        2011-03-25           12.4            2.7             8.0   \n",
      "...             ...            ...            ...             ...   \n",
      "4921     2024-09-09           33.3           21.3            27.6   \n",
      "4922     2024-09-10           34.3           22.0            28.7   \n",
      "4923     2024-09-11           34.6           22.7            29.0   \n",
      "4924     2024-09-12           35.8           22.1            29.7   \n",
      "4925     2024-09-13           33.8           22.6            28.9   \n",
      "\n",
      "      daylight_duration (s)  precipitation_sum (mm)  rain_sum (mm)  \\\n",
      "0                  43745.62                     0.0            0.0   \n",
      "1                  43879.68                     0.0            0.0   \n",
      "2                  44014.04                     4.6            4.6   \n",
      "3                  44148.90                     2.9            2.9   \n",
      "4                  44284.18                     0.4            0.4   \n",
      "...                     ...                     ...            ...   \n",
      "4921               45450.16                     0.0            0.0   \n",
      "4922               45319.50                     0.0            0.0   \n",
      "4923               45188.03                     0.0            0.0   \n",
      "4924               45055.83                     0.0            0.0   \n",
      "4925               44922.98                     0.0            0.0   \n",
      "\n",
      "      snowfall_sum (cm)  precipitation_hours (h)  wind_speed_max (km/h)  \\\n",
      "0                   0.0                      0.0                    8.3   \n",
      "1                   0.0                      0.0                   10.1   \n",
      "2                   0.0                     10.0                    9.5   \n",
      "3                   0.0                      2.0                   15.8   \n",
      "4                   0.0                      3.0                   10.7   \n",
      "...                 ...                      ...                    ...   \n",
      "4921                0.0                      0.0                   12.2   \n",
      "4922                0.0                      0.0                   15.3   \n",
      "4923                0.0                      0.0                   15.6   \n",
      "4924                0.0                      0.0                   13.8   \n",
      "4925                0.0                      0.0                   15.8   \n",
      "\n",
      "      wind_gusts_max (km/h)  wind_direction_dominant (°)  \\\n",
      "0                      18.7                           43   \n",
      "1                      23.0                           10   \n",
      "2                      27.0                           24   \n",
      "3                      39.6                          335   \n",
      "4                      26.3                          336   \n",
      "...                     ...                          ...   \n",
      "4921                   27.7                          156   \n",
      "4922                   31.3                          198   \n",
      "4923                   31.7                          198   \n",
      "4924                   25.9                           89   \n",
      "4925                   25.9                          118   \n",
      "\n",
      "      shortwave_radiation_sum (MJ/m²)  evapotranspiration (mm) date_jalali  \n",
      "0                               22.90                     3.84  1390-01-01  \n",
      "1                               19.30                     3.50  1390-01-02  \n",
      "2                               12.69                     2.04  1390-01-03  \n",
      "3                               23.10                     3.06  1390-01-04  \n",
      "4                               21.82                     3.23  1390-01-05  \n",
      "...                               ...                      ...         ...  \n",
      "4921                            22.14                     6.29  1403-06-19  \n",
      "4922                            22.40                     6.62  1403-06-20  \n",
      "4923                            22.37                     6.61  1403-06-21  \n",
      "4924                            22.39                     6.69  1403-06-22  \n",
      "4925                            21.35                     6.08  1403-06-23  \n",
      "\n",
      "[4926 rows x 15 columns]\n"
     ]
    }
   ],
   "source": [
    "for city, df in dataframes.items():\n",
    "    df[\"date_jalali\"] = df[\"time\"].apply(lambda time: JalaliDate(time))\n",
    "    df.rename(columns={'time': 'date_gregorian'}, inplace=True)\n",
    "\n",
    "print(dataframes[\"Tehran\"])"
   ],
   "metadata": {
    "collapsed": false,
    "ExecuteTime": {
     "end_time": "2024-09-21T23:06:32.515862200Z",
     "start_time": "2024-09-21T23:06:32.156537200Z"
    }
   },
   "id": "d60df18de460a3d6"
  },
  {
   "cell_type": "code",
   "execution_count": 55,
   "outputs": [
    {
     "name": "stdout",
     "output_type": "stream",
     "text": [
      "<class 'pandas.core.frame.DataFrame'>\n",
      "RangeIndex: 4926 entries, 0 to 4925\n",
      "Data columns (total 15 columns):\n",
      " #   Column                           Non-Null Count  Dtype         \n",
      "---  ------                           --------------  -----         \n",
      " 0   date_gregorian                   4926 non-null   datetime64[ns]\n",
      " 1   temp_max (°C)                    4926 non-null   float64       \n",
      " 2   temp_min (°C)                    4926 non-null   float64       \n",
      " 3   temp_mean (°C)                   4926 non-null   float64       \n",
      " 4   daylight_duration (s)            4926 non-null   float64       \n",
      " 5   precipitation_sum (mm)           4926 non-null   float64       \n",
      " 6   rain_sum (mm)                    4926 non-null   float64       \n",
      " 7   snowfall_sum (cm)                4926 non-null   float64       \n",
      " 8   precipitation_hours (h)          4926 non-null   float64       \n",
      " 9   wind_speed_max (km/h)            4926 non-null   float64       \n",
      " 10  wind_gusts_max (km/h)            4926 non-null   float64       \n",
      " 11  wind_direction_dominant (°)      4926 non-null   int64         \n",
      " 12  shortwave_radiation_sum (MJ/m²)  4926 non-null   float64       \n",
      " 13  evapotranspiration (mm)          4926 non-null   float64       \n",
      " 14  date_jalali                      4926 non-null   object        \n",
      "dtypes: datetime64[ns](1), float64(12), int64(1), object(1)\n",
      "memory usage: 577.4+ KB\n"
     ]
    }
   ],
   "source": [
    "dataframes[\"Tehran\"].info()"
   ],
   "metadata": {
    "collapsed": false,
    "ExecuteTime": {
     "end_time": "2024-09-21T23:06:33.523270800Z",
     "start_time": "2024-09-21T23:06:33.514021Z"
    }
   },
   "id": "3ab277c4f9c268e6"
  },
  {
   "cell_type": "code",
   "execution_count": 68,
   "outputs": [
    {
     "name": "stdout",
     "output_type": "stream",
     "text": [
      "['Spring' 'Summer' 'Autumn' 'Winter']\n",
      "['Spring' 'Summer' 'Autumn' 'Winter']\n",
      "['Spring' 'Summer' 'Autumn' 'Winter']\n",
      "['Spring' 'Summer' 'Autumn' 'Winter']\n",
      "['Spring' 'Summer' 'Autumn' 'Winter']\n",
      "['Spring' 'Summer' 'Autumn' 'Winter']\n",
      "['Spring' 'Summer' 'Autumn' 'Winter']\n",
      "['Spring' 'Summer' 'Autumn' 'Winter']\n",
      "['Spring' 'Summer' 'Autumn' 'Winter']\n",
      "['Spring' 'Summer' 'Autumn' 'Winter']\n",
      "<class 'pandas.core.frame.DataFrame'>\n",
      "RangeIndex: 4926 entries, 0 to 4925\n",
      "Data columns (total 16 columns):\n",
      " #   Column                           Non-Null Count  Dtype         \n",
      "---  ------                           --------------  -----         \n",
      " 0   date_gregorian                   4926 non-null   datetime64[ns]\n",
      " 1   temp_max (°C)                    4926 non-null   float64       \n",
      " 2   temp_min (°C)                    4926 non-null   float64       \n",
      " 3   temp_mean (°C)                   4926 non-null   float64       \n",
      " 4   daylight_duration (s)            4926 non-null   float64       \n",
      " 5   precipitation_sum (mm)           4926 non-null   float64       \n",
      " 6   rain_sum (mm)                    4926 non-null   float64       \n",
      " 7   snowfall_sum (cm)                4926 non-null   float64       \n",
      " 8   precipitation_hours (h)          4926 non-null   float64       \n",
      " 9   wind_speed_max (km/h)            4926 non-null   float64       \n",
      " 10  wind_gusts_max (km/h)            4926 non-null   float64       \n",
      " 11  wind_direction_dominant (°)      4926 non-null   int64         \n",
      " 12  shortwave_radiation_sum (MJ/m²)  4926 non-null   float64       \n",
      " 13  evapotranspiration (mm)          4926 non-null   float64       \n",
      " 14  date_jalali                      4926 non-null   object        \n",
      " 15  season                           4926 non-null   object        \n",
      "dtypes: datetime64[ns](1), float64(12), int64(1), object(2)\n",
      "memory usage: 615.9+ KB\n",
      "None\n"
     ]
    }
   ],
   "source": [
    "def calculate_seasons(month):\n",
    "    if month in [1, 2, 3]:\n",
    "        return 'Spring'\n",
    "    elif month in [4, 5, 6]:\n",
    "        return 'Summer'\n",
    "    elif month in [7, 8, 9]:\n",
    "        return 'Autumn'\n",
    "    else:\n",
    "        return 'Winter'\n",
    "    \n",
    "# Calculate Jalali Month\n",
    "for city, df in dataframes.items():\n",
    "    df[\"season\"] = df[\"date_jalali\"].apply(lambda date : date.month)\n",
    "    df[\"season\"] = df[\"season\"].apply(calculate_seasons)\n",
    "    df[\"season\"] = df[\"season\"].astype(np.str_)\n",
    "    \n",
    "        # If you need it as a NumPy array of strings:\n",
    "    season_array = df[\"season\"].values.astype(np.str_)\n",
    "    df[\"season\"] = season_array\n",
    "    \n",
    "    print(df[\"season\"].unique())\n",
    "    \n",
    "print(dataframes[\"Tehran\"].info())"
   ],
   "metadata": {
    "collapsed": false,
    "ExecuteTime": {
     "end_time": "2024-09-21T23:21:55.914994100Z",
     "start_time": "2024-09-21T23:21:55.852445300Z"
    }
   },
   "id": "b00a3e84b351a2e6"
  },
  {
   "cell_type": "code",
   "execution_count": 71,
   "outputs": [
    {
     "name": "stdout",
     "output_type": "stream",
     "text": [
      "<class 'pandas.core.frame.DataFrame'>\n",
      "RangeIndex: 4926 entries, 0 to 4925\n",
      "Data columns (total 16 columns):\n",
      " #   Column                           Non-Null Count  Dtype         \n",
      "---  ------                           --------------  -----         \n",
      " 0   date_gregorian                   4926 non-null   datetime64[ns]\n",
      " 1   temp_max (°C)                    4926 non-null   float64       \n",
      " 2   temp_min (°C)                    4926 non-null   float64       \n",
      " 3   temp_mean (°C)                   4926 non-null   float64       \n",
      " 4   daylight_duration (s)            4926 non-null   float64       \n",
      " 5   precipitation_sum (mm)           4926 non-null   float64       \n",
      " 6   rain_sum (mm)                    4926 non-null   float64       \n",
      " 7   snowfall_sum (cm)                4926 non-null   float64       \n",
      " 8   precipitation_hours (h)          4926 non-null   float64       \n",
      " 9   wind_speed_max (km/h)            4926 non-null   float64       \n",
      " 10  wind_gusts_max (km/h)            4926 non-null   float64       \n",
      " 11  wind_direction_dominant (°)      4926 non-null   int64         \n",
      " 12  shortwave_radiation_sum (MJ/m²)  4926 non-null   float64       \n",
      " 13  evapotranspiration (mm)          4926 non-null   float64       \n",
      " 14  date_jalali                      4926 non-null   object        \n",
      " 15  season                           4926 non-null   object        \n",
      "dtypes: datetime64[ns](1), float64(12), int64(1), object(2)\n",
      "memory usage: 615.9+ KB\n",
      "None\n"
     ]
    }
   ],
   "source": [
    "dataframes[\"Tehran\"][\"season\"] = dataframes[\"Tehran\"][\"season\"].astype(np.str_)\n",
    "print(dataframes[\"Tehran\"].info())"
   ],
   "metadata": {
    "collapsed": false,
    "ExecuteTime": {
     "end_time": "2024-09-21T23:23:10.196405600Z",
     "start_time": "2024-09-21T23:23:10.186182100Z"
    }
   },
   "id": "1676da54ce5f1c1c"
  },
  {
   "cell_type": "code",
   "execution_count": null,
   "outputs": [],
   "source": [],
   "metadata": {
    "collapsed": false
   },
   "id": "207662bfc9610739"
  }
 ],
 "metadata": {
  "kernelspec": {
   "display_name": "Python 3",
   "language": "python",
   "name": "python3"
  },
  "language_info": {
   "codemirror_mode": {
    "name": "ipython",
    "version": 2
   },
   "file_extension": ".py",
   "mimetype": "text/x-python",
   "name": "python",
   "nbconvert_exporter": "python",
   "pygments_lexer": "ipython2",
   "version": "2.7.6"
  }
 },
 "nbformat": 4,
 "nbformat_minor": 5
}
