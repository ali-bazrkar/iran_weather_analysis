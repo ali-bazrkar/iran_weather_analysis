{
 "cells": [
  {
   "cell_type": "markdown",
   "source": [
    "# Importing Libraries"
   ],
   "metadata": {
    "collapsed": false
   },
   "id": "4d81692409309ca7"
  },
  {
   "cell_type": "code",
   "execution_count": null,
   "outputs": [],
   "source": [
    "import numpy as np\n",
    "import pandas as pd\n",
    "import matplotlib.pyplot as plt\n",
    "import seaborn as sns"
   ],
   "metadata": {
    "collapsed": false
   },
   "id": "caa82013b45cf989"
  },
  {
   "cell_type": "markdown",
   "source": [
    "# Data Preprocessing"
   ],
   "metadata": {
    "collapsed": false
   },
   "id": "8003a7744e94c705"
  },
  {
   "cell_type": "markdown",
   "source": [
    "## Data Loading"
   ],
   "metadata": {
    "collapsed": false
   },
   "id": "ec0d2fdf75f0fbe4"
  },
  {
   "cell_type": "code",
   "execution_count": 7,
   "outputs": [],
   "source": [
    "# Saving Directory\n",
    "files = [\n",
    "    \"Ahvaz.csv\",\n",
    "    \"Bandar Abbas.csv\",\n",
    "    \"Isfahan.csv\",\n",
    "    \"Karaj.csv\",\n",
    "    \"Kerman.csv\",\n",
    "    \"Mashhad.csv\",\n",
    "    \"Rasht.csv\",\n",
    "    \"Shiraz.csv\",\n",
    "    \"Tabriz.csv\",\n",
    "    \"Tehran.csv\"\n",
    "]\n",
    "\n",
    "# Dataframe to keep dataframes\n",
    "dataframes = {}\n",
    "\n",
    "# Reading DataFrames and Saving them in a dictionary\n",
    "for file in files:\n",
    "    city_name = file.replace('.csv', '')\n",
    "    dataframes[city_name] = pd.read_csv(f\"Dataset/{file}\")\n",
    "\n",
    "# for city, df in dataframes.items():\n",
    "#     print(f\"Dataframe for {city}:\")\n",
    "#     print(f\"Shape: {df.shape}\")\n",
    "#     print()\n",
    "# print(dataframes)"
   ],
   "metadata": {
    "collapsed": false,
    "ExecuteTime": {
     "end_time": "2024-09-19T12:52:07.698437Z",
     "start_time": "2024-09-19T12:52:07.573090300Z"
    }
   },
   "id": "9bee1d0a9a3f2457"
  },
  {
   "cell_type": "code",
   "execution_count": null,
   "outputs": [],
   "source": [],
   "metadata": {
    "collapsed": false
   },
   "id": "51e3b71f60442480"
  }
 ],
 "metadata": {
  "kernelspec": {
   "display_name": "Python 3",
   "language": "python",
   "name": "python3"
  },
  "language_info": {
   "codemirror_mode": {
    "name": "ipython",
    "version": 2
   },
   "file_extension": ".py",
   "mimetype": "text/x-python",
   "name": "python",
   "nbconvert_exporter": "python",
   "pygments_lexer": "ipython2",
   "version": "2.7.6"
  }
 },
 "nbformat": 4,
 "nbformat_minor": 5
}
