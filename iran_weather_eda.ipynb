{
 "cells": [
  {
   "cell_type": "markdown",
   "id": "4d81692409309ca7",
   "metadata": {
    "collapsed": false
   },
   "source": [
    "# Importing Libraries"
   ]
  },
  {
   "cell_type": "code",
   "execution_count": 133,
   "id": "caa82013b45cf989",
   "metadata": {
    "collapsed": false,
    "ExecuteTime": {
     "end_time": "2024-09-22T13:13:55.939368100Z",
     "start_time": "2024-09-22T13:13:55.885348800Z"
    }
   },
   "outputs": [],
   "source": [
    "import numpy as np\n",
    "import pandas as pd\n",
    "import matplotlib.pyplot as plt\n",
    "import seaborn as sns\n",
    "from persiantools.jdatetime import JalaliDate\n",
    "from datetime import datetime, date"
   ]
  },
  {
   "cell_type": "markdown",
   "id": "8003a7744e94c705",
   "metadata": {
    "collapsed": false
   },
   "source": [
    "# Data Preparation"
   ]
  },
  {
   "cell_type": "markdown",
   "id": "ec0d2fdf75f0fbe4",
   "metadata": {
    "collapsed": false
   },
   "source": [
    "## Dataset Combining "
   ]
  },
  {
   "cell_type": "markdown",
   "source": [
    "#### load geography information"
   ],
   "metadata": {
    "collapsed": false
   },
   "id": "519b37ccf5f07dd1"
  },
  {
   "cell_type": "code",
   "execution_count": 134,
   "outputs": [
    {
     "name": "stdout",
     "output_type": "stream",
     "text": [
      "    latitude  longitude  elevation          city\n",
      "0  35.676624  51.428570     1183.0        Tehran\n",
      "1  38.066784  46.150738     1399.0        Tabriz\n",
      "2  36.309315  59.648438      986.0       Mashhad\n",
      "3  32.653778  51.695120     1579.0       Isfahan\n",
      "4  29.630930  52.560837     1541.0        Shiraz\n",
      "5  31.318100  48.700836       23.0         Ahvaz\n",
      "6  37.293495  49.535810        4.0         Rasht\n",
      "7  30.263618  57.119434     1762.0        Kerman\n",
      "8  27.170473  56.224940        9.0  Bandar Abbas\n",
      "9  35.817223  50.980644     1341.0         Karaj\n"
     ]
    }
   ],
   "source": [
    "geography = pd.read_csv(f\"Dataset/Geography Information.csv\")\n",
    "geography['city'] = geography['city'].str.strip()\n",
    "print(geography)"
   ],
   "metadata": {
    "collapsed": false,
    "ExecuteTime": {
     "end_time": "2024-09-22T13:13:56.061111800Z",
     "start_time": "2024-09-22T13:13:55.895350900Z"
    }
   },
   "id": "6b8b9a9e06bcb3dc"
  },
  {
   "cell_type": "markdown",
   "source": [
    "#### load city information"
   ],
   "metadata": {
    "collapsed": false
   },
   "id": "c8ca7a4fb4e3cc9c"
  },
  {
   "cell_type": "code",
   "execution_count": 135,
   "id": "9bee1d0a9a3f2457",
   "metadata": {
    "collapsed": false,
    "ExecuteTime": {
     "end_time": "2024-09-22T13:13:56.143419700Z",
     "start_time": "2024-09-22T13:13:55.940365600Z"
    }
   },
   "outputs": [],
   "source": [
    "# City name lists\n",
    "cities = [\n",
    "    \"Tehran\",\n",
    "    \"Tabriz\",\n",
    "    \"Mashhad\",\n",
    "    \"Isfahan\",\n",
    "    \"Shiraz\",\n",
    "    \"Ahvaz\",\n",
    "    \"Rasht\",\n",
    "    \"Kerman\",\n",
    "    \"Bandar Abbas\",\n",
    "    \"Karaj\"\n",
    "]\n",
    "\n",
    "# list to keep dataframes\n",
    "dataframes = []\n",
    "\n",
    "# Reading DataFrames and Saving them in a dictionary\n",
    "for city in cities:\n",
    "    df = pd.read_csv(f\"Dataset/{city}.csv\")\n",
    "    df['city'] = city\n",
    "    dataframes.append(df)"
   ]
  },
  {
   "cell_type": "markdown",
   "source": [
    "#### Combine what we have gotten so far"
   ],
   "metadata": {
    "collapsed": false
   },
   "id": "bbefdc9543e48f3d"
  },
  {
   "cell_type": "code",
   "execution_count": 136,
   "outputs": [],
   "source": [
    "## Data Cleaning \n",
    "df_combined = pd.concat(dataframes, ignore_index=True)\n",
    "df_combined = pd.merge(df_combined, geography, on='city', how='left')\n",
    "\n",
    "# Save the combined dataframe to a new CSV file\n",
    "df_combined.to_csv(\"Dataset/Combined Dataset.csv\", index=False)"
   ],
   "metadata": {
    "collapsed": false,
    "ExecuteTime": {
     "end_time": "2024-09-22T13:13:56.931219300Z",
     "start_time": "2024-09-22T13:13:56.123471Z"
    }
   },
   "id": "89ab54fbaeffc367"
  },
  {
   "cell_type": "markdown",
   "source": [
    "## Data Cleaning "
   ],
   "metadata": {
    "collapsed": false
   },
   "id": "9399750a213ab2ec"
  },
  {
   "cell_type": "code",
   "execution_count": 137,
   "outputs": [],
   "source": [
    "del df, df_combined, dataframes, geography, cities\n",
    "df = pd.read_csv(\"Dataset/Combined Dataset.csv\")"
   ],
   "metadata": {
    "collapsed": false,
    "ExecuteTime": {
     "end_time": "2024-09-22T13:13:57.069557700Z",
     "start_time": "2024-09-22T13:13:56.932225700Z"
    }
   },
   "id": "79599280ebaa1025"
  },
  {
   "cell_type": "markdown",
   "source": [
    "### Checking NaNs "
   ],
   "metadata": {
    "collapsed": false
   },
   "id": "47b81dff9ff1cf1d"
  },
  {
   "cell_type": "code",
   "execution_count": 138,
   "outputs": [
    {
     "name": "stdout",
     "output_type": "stream",
     "text": [
      "Dataset Missing Values:\n",
      "time                               0\n",
      "temp_max (°C)                      0\n",
      "temp_min (°C)                      0\n",
      "temp_mean (°C)                     0\n",
      "daylight_duration (s)              0\n",
      "precipitation_sum (mm)             0\n",
      "rain_sum (mm)                      0\n",
      "snowfall_sum (cm)                  0\n",
      "precipitation_hours (h)            0\n",
      "wind_speed_max (km/h)              0\n",
      "wind_gusts_max (km/h)              0\n",
      "wind_direction_dominant (°)        0\n",
      "shortwave_radiation_sum (MJ/m²)    0\n",
      "evapotranspiration (mm)            0\n",
      "city                               0\n",
      "latitude                           0\n",
      "longitude                          0\n",
      "elevation                          0\n",
      "dtype: int64\n"
     ]
    }
   ],
   "source": [
    "print(\"Dataset Missing Values:\")\n",
    "missing_values = df.isnull().sum()\n",
    "print(missing_values)"
   ],
   "metadata": {
    "collapsed": false,
    "ExecuteTime": {
     "end_time": "2024-09-22T13:13:57.096061Z",
     "start_time": "2024-09-22T13:13:57.071526900Z"
    }
   },
   "id": "be65efd3c7ea42df"
  },
  {
   "cell_type": "markdown",
   "source": [
    "### Gregorian and Jalali Date Settings "
   ],
   "metadata": {
    "collapsed": false
   },
   "id": "ec721eece1d00e90"
  },
  {
   "cell_type": "code",
   "execution_count": 139,
   "outputs": [],
   "source": [
    "df[\"time\"] = pd.to_datetime(df[\"time\"])"
   ],
   "metadata": {
    "collapsed": false,
    "ExecuteTime": {
     "end_time": "2024-09-22T13:13:57.144091900Z",
     "start_time": "2024-09-22T13:13:57.086077300Z"
    }
   },
   "id": "eadda663cce6497b"
  },
  {
   "cell_type": "code",
   "execution_count": 140,
   "outputs": [],
   "source": [
    "# create Jalali date column\n",
    "df[\"date_jalali\"] = df[\"time\"].apply(lambda time: JalaliDate(time)) \n",
    "\n",
    "# rename time to date_gregorian\n",
    "df.rename(columns={'time': 'date_gregorian'}, inplace=True)"
   ],
   "metadata": {
    "collapsed": false,
    "ExecuteTime": {
     "end_time": "2024-09-22T13:13:57.732289400Z",
     "start_time": "2024-09-22T13:13:57.146087500Z"
    }
   },
   "id": "d60df18de460a3d6"
  },
  {
   "cell_type": "code",
   "execution_count": 141,
   "outputs": [],
   "source": [
    "df[\"season\"] = df[\"date_jalali\"].apply(lambda date: \n",
    "                                        1 if date.month in [1, 2, 3] else \n",
    "                                        2 if date.month in [4, 5, 6] else \n",
    "                                        3 if date.month in [7, 8, 9] else \n",
    "                                        4  \n",
    "                                        ).astype(np.int8)"
   ],
   "metadata": {
    "collapsed": false,
    "ExecuteTime": {
     "end_time": "2024-09-22T13:13:57.775941Z",
     "start_time": "2024-09-22T13:13:57.732289400Z"
    }
   },
   "id": "b00a3e84b351a2e6"
  },
  {
   "cell_type": "code",
   "execution_count": 142,
   "outputs": [
    {
     "name": "stdout",
     "output_type": "stream",
     "text": [
      "<class 'pandas.core.frame.DataFrame'>\n",
      "RangeIndex: 49260 entries, 0 to 49259\n",
      "Data columns (total 20 columns):\n",
      " #   Column                           Non-Null Count  Dtype         \n",
      "---  ------                           --------------  -----         \n",
      " 0   date_gregorian                   49260 non-null  datetime64[ns]\n",
      " 1   temp_max (°C)                    49260 non-null  float64       \n",
      " 2   temp_min (°C)                    49260 non-null  float64       \n",
      " 3   temp_mean (°C)                   49260 non-null  float64       \n",
      " 4   daylight_duration (s)            49260 non-null  float64       \n",
      " 5   precipitation_sum (mm)           49260 non-null  float64       \n",
      " 6   rain_sum (mm)                    49260 non-null  float64       \n",
      " 7   snowfall_sum (cm)                49260 non-null  float64       \n",
      " 8   precipitation_hours (h)          49260 non-null  float64       \n",
      " 9   wind_speed_max (km/h)            49260 non-null  float64       \n",
      " 10  wind_gusts_max (km/h)            49260 non-null  float64       \n",
      " 11  wind_direction_dominant (°)      49260 non-null  int64         \n",
      " 12  shortwave_radiation_sum (MJ/m²)  49260 non-null  float64       \n",
      " 13  evapotranspiration (mm)          49260 non-null  float64       \n",
      " 14  city                             49260 non-null  object        \n",
      " 15  latitude                         49260 non-null  float64       \n",
      " 16  longitude                        49260 non-null  float64       \n",
      " 17  elevation                        49260 non-null  float64       \n",
      " 18  date_jalali                      49260 non-null  object        \n",
      " 19  season                           49260 non-null  int8          \n",
      "dtypes: datetime64[ns](1), float64(15), int64(1), int8(1), object(2)\n",
      "memory usage: 7.2+ MB\n"
     ]
    }
   ],
   "source": [
    "df.info()"
   ],
   "metadata": {
    "collapsed": false,
    "ExecuteTime": {
     "end_time": "2024-09-22T13:13:57.803164300Z",
     "start_time": "2024-09-22T13:13:57.776938500Z"
    }
   },
   "id": "31e1c6bdebfdf31c"
  },
  {
   "cell_type": "markdown",
   "source": [
    "### Memory Cleaning "
   ],
   "metadata": {
    "collapsed": false
   },
   "id": "b5a27bddaab75be9"
  },
  {
   "cell_type": "code",
   "execution_count": 154,
   "outputs": [],
   "source": [
    "def datatype_cleaner(df):\n",
    "    \n",
    "    for column in df.select_dtypes(include=['float', 'int']).columns:\n",
    "        min_val = df[column].min()\n",
    "        max_val = df[column].max()\n",
    "    \n",
    "        col_dtype = df[column].dtype\n",
    "    \n",
    "        # Check ranges for int and float types\n",
    "        if np.issubdtype(col_dtype, np.integer):\n",
    "            if min_val >= -128 and max_val <= 127:  # int8\n",
    "                df[column] = df[column].astype(np.int8)\n",
    "            elif min_val >= -32768 and max_val <= 32767:  # int16\n",
    "                df[column] = df[column].astype(np.int16)\n",
    "            elif min_val >= -2147483648 and max_val <= 2147483647:  # int32\n",
    "                df[column] = df[column].astype(np.int32)\n",
    "            else:\n",
    "                df[column] = df[column].astype(np.int64)\n",
    "        elif np.issubdtype(col_dtype, np.floating):\n",
    "            if min_val >= -65504 and max_val <= 65504:  # float16\n",
    "                df[column] = df[column].astype(np.float16)\n",
    "            elif min_val >= -3.4e38 and max_val <= 3.4e38:  # float32\n",
    "                df[column] = df[column].astype(np.float32)\n",
    "            else:\n",
    "                df[column] = df[column].astype(np.float64)"
   ],
   "metadata": {
    "collapsed": false,
    "ExecuteTime": {
     "end_time": "2024-09-22T13:26:45.995423300Z",
     "start_time": "2024-09-22T13:26:45.980942Z"
    }
   },
   "id": "51749d36070ae96f"
  },
  {
   "cell_type": "code",
   "execution_count": 155,
   "outputs": [
    {
     "name": "stdout",
     "output_type": "stream",
     "text": [
      "<class 'pandas.core.frame.DataFrame'>\n",
      "RangeIndex: 49260 entries, 0 to 49259\n",
      "Data columns (total 20 columns):\n",
      " #   Column                           Non-Null Count  Dtype  \n",
      "---  ------                           --------------  -----  \n",
      " 0   date_gregorian                   49260 non-null  object \n",
      " 1   temp_max (°C)                    49260 non-null  float16\n",
      " 2   temp_min (°C)                    49260 non-null  float16\n",
      " 3   temp_mean (°C)                   49260 non-null  float16\n",
      " 4   daylight_duration (s)            49260 non-null  float16\n",
      " 5   precipitation_sum (mm)           49260 non-null  float16\n",
      " 6   rain_sum (mm)                    49260 non-null  float16\n",
      " 7   snowfall_sum (cm)                49260 non-null  float16\n",
      " 8   precipitation_hours (h)          49260 non-null  float16\n",
      " 9   wind_speed_max (km/h)            49260 non-null  float16\n",
      " 10  wind_gusts_max (km/h)            49260 non-null  float16\n",
      " 11  wind_direction_dominant (°)      49260 non-null  int16  \n",
      " 12  shortwave_radiation_sum (MJ/m²)  49260 non-null  float16\n",
      " 13  evapotranspiration (mm)          49260 non-null  float16\n",
      " 14  city                             49260 non-null  object \n",
      " 15  latitude                         49260 non-null  float16\n",
      " 16  longitude                        49260 non-null  float16\n",
      " 17  elevation                        49260 non-null  float16\n",
      " 18  date_jalali                      49260 non-null  object \n",
      " 19  season                           49260 non-null  int8   \n",
      "dtypes: float16(15), int16(1), int8(1), object(3)\n",
      "memory usage: 2.7+ MB\n"
     ]
    }
   ],
   "source": [
    "# calling the function to clean datatype memory usage\n",
    "datatype_cleaner(df)\n",
    "df.info()"
   ],
   "metadata": {
    "collapsed": false,
    "ExecuteTime": {
     "end_time": "2024-09-22T13:26:46.345560Z",
     "start_time": "2024-09-22T13:26:46.319122700Z"
    }
   },
   "id": "ea6679b068111061"
  },
  {
   "cell_type": "code",
   "execution_count": 150,
   "outputs": [],
   "source": [
    "df.to_csv(\"Final Dataset.csv\", index=False)"
   ],
   "metadata": {
    "collapsed": false,
    "ExecuteTime": {
     "end_time": "2024-09-22T13:16:17.214054400Z",
     "start_time": "2024-09-22T13:16:16.503215300Z"
    }
   },
   "id": "61d9d3c96bd8e4ec"
  },
  {
   "cell_type": "markdown",
   "source": [
    "# Data Visualization"
   ],
   "metadata": {
    "collapsed": false
   },
   "id": "1fd6d693fe040c39"
  },
  {
   "cell_type": "code",
   "execution_count": null,
   "outputs": [],
   "source": [],
   "metadata": {
    "collapsed": false
   },
   "id": "9d48fd158a12af64"
  }
 ],
 "metadata": {
  "kernelspec": {
   "display_name": "Python 3",
   "language": "python",
   "name": "python3"
  },
  "language_info": {
   "codemirror_mode": {
    "name": "ipython",
    "version": 2
   },
   "file_extension": ".py",
   "mimetype": "text/x-python",
   "name": "python",
   "nbconvert_exporter": "python",
   "pygments_lexer": "ipython2",
   "version": "2.7.6"
  }
 },
 "nbformat": 4,
 "nbformat_minor": 5
}
